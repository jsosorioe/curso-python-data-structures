{
  "nbformat": 4,
  "nbformat_minor": 0,
  "metadata": {
    "colab": {
      "name": "Cursera data bases python week 3.ipynb",
      "provenance": [],
      "authorship_tag": "ABX9TyOQgrm6NeCcDRgJ1E3E/3tU",
      "include_colab_link": true
    },
    "kernelspec": {
      "name": "python3",
      "display_name": "Python 3"
    },
    "language_info": {
      "name": "python"
    }
  },
  "cells": [
    {
      "cell_type": "markdown",
      "metadata": {
        "id": "view-in-github",
        "colab_type": "text"
      },
      "source": [
        "<a href=\"https://colab.research.google.com/github/jsosorioe/curso-python-data-structures/blob/main/Cursera_data_bases_python_week_3.ipynb\" target=\"_parent\"><img src=\"https://colab.research.google.com/assets/colab-badge.svg\" alt=\"Open In Colab\"/></a>"
      ]
    },
    {
      "cell_type": "code",
      "source": [
        "# Carga los datos a Colab\n",
        "\n",
        "!wget  http://www.py4e.com/code3/tracks.zip\n",
        "!unzip tracks.zip\n",
        "\n"
      ],
      "metadata": {
        "colab": {
          "base_uri": "https://localhost:8080/"
        },
        "id": "Q08Q7j6kRJJ9",
        "outputId": "160a664a-0382-466a-f8b1-dd0a2690f1e7"
      },
      "execution_count": null,
      "outputs": [
        {
          "output_type": "stream",
          "name": "stdout",
          "text": [
            "--2022-05-13 22:22:19--  http://www.py4e.com/code3/tracks.zip\n",
            "Resolving www.py4e.com (www.py4e.com)... 104.21.5.179, 172.67.133.177, 2606:4700:3034::ac43:85b1, ...\n",
            "Connecting to www.py4e.com (www.py4e.com)|104.21.5.179|:80... connected.\n",
            "HTTP request sent, awaiting response... 301 Moved Permanently\n",
            "Location: https://www.py4e.com/code3/tracks.zip [following]\n",
            "--2022-05-13 22:22:19--  https://www.py4e.com/code3/tracks.zip\n",
            "Connecting to www.py4e.com (www.py4e.com)|104.21.5.179|:443... connected.\n",
            "HTTP request sent, awaiting response... 200 OK\n",
            "Length: 52332 (51K) [application/zip]\n",
            "Saving to: ‘tracks.zip’\n",
            "\n",
            "\rtracks.zip            0%[                    ]       0  --.-KB/s               \rtracks.zip          100%[===================>]  51.11K  --.-KB/s    in 0s      \n",
            "\n",
            "2022-05-13 22:22:19 (122 MB/s) - ‘tracks.zip’ saved [52332/52332]\n",
            "\n",
            "Archive:  tracks.zip\n",
            "   creating: tracks/\n",
            "  inflating: tracks/tracks.py        \n",
            "  inflating: tracks/README.txt       \n",
            "  inflating: tracks/Library.xml      \n"
          ]
        }
      ]
    },
    {
      "cell_type": "code",
      "source": [
        "import xml.etree.ElementTree as ET\n",
        "import sqlite3\n",
        "\n",
        "conn = sqlite3.connect('trackdb.sqlite')\n",
        "cur = conn.cursor()\n",
        "\n",
        "# Make some fresh tables using executescript()\n",
        "cur.executescript('''\n",
        "DROP TABLE IF EXISTS Artist;\n",
        "DROP TABLE IF EXISTS Album;\n",
        "DROP TABLE IF EXISTS Track;\n",
        "\n",
        "CREATE TABLE Artist (\n",
        "    id  INTEGER NOT NULL PRIMARY KEY AUTOINCREMENT UNIQUE,\n",
        "    name    TEXT UNIQUE\n",
        ");\n",
        "\n",
        "CREATE TABLE Album (\n",
        "    id  INTEGER NOT NULL PRIMARY KEY AUTOINCREMENT UNIQUE,\n",
        "    artist_id  INTEGER,\n",
        "    title   TEXT UNIQUE\n",
        ");\n",
        "\n",
        "CREATE TABLE Track (\n",
        "    id  INTEGER NOT NULL PRIMARY KEY \n",
        "        AUTOINCREMENT UNIQUE,\n",
        "    title TEXT  UNIQUE,\n",
        "    album_id  INTEGER,\n",
        "    len INTEGER, rating INTEGER, count INTEGER\n",
        ");\n",
        "''')\n",
        "\n",
        "\n",
        "fname = input('Enter file name: ')\n",
        "if ( len(fname) < 1 ) : fname = 'Library.xml'\n",
        "\n",
        "# <key>Track ID</key><integer>369</integer>\n",
        "# <key>Name</key><string>Another One Bites The Dust</string>\n",
        "# <key>Artist</key><string>Queen</string>\n",
        "def lookup(d, key):\n",
        "    found = False\n",
        "    for child in d:\n",
        "        if found : return child.text\n",
        "        if child.tag == 'key' and child.text == key :\n",
        "            found = True\n",
        "    return None\n",
        "\n",
        "stuff = ET.parse(fname)\n",
        "all = stuff.findall('dict/dict/dict')\n",
        "print('Dict count:', len(all))\n",
        "for entry in all:\n",
        "    if ( lookup(entry, 'Track ID') is None ) : continue\n",
        "\n",
        "    name = lookup(entry, 'Name')\n",
        "    artist = lookup(entry, 'Artist')\n",
        "    album = lookup(entry, 'Album')\n",
        "    count = lookup(entry, 'Play Count')\n",
        "    rating = lookup(entry, 'Rating')\n",
        "    length = lookup(entry, 'Total Time')\n",
        "\n",
        "    if name is None or artist is None or album is None : \n",
        "        continue\n",
        "\n",
        "    print(name, artist, album, count, rating, length)\n",
        "\n",
        "    cur.execute('''INSERT OR IGNORE INTO Artist (name) \n",
        "        VALUES ( ? )''', ( artist, ) )\n",
        "    cur.execute('SELECT id FROM Artist WHERE name = ? ', (artist, ))\n",
        "    artist_id = cur.fetchone()[0]\n",
        "\n",
        "    cur.execute('''INSERT OR IGNORE INTO Album (title, artist_id) \n",
        "        VALUES ( ?, ? )''', ( album, artist_id ) )\n",
        "    cur.execute('SELECT id FROM Album WHERE title = ? ', (album, ))\n",
        "    album_id = cur.fetchone()[0]\n",
        "\n",
        "    cur.execute('''INSERT OR REPLACE INTO Track\n",
        "        (title, album_id, len, rating, count) \n",
        "        VALUES ( ?, ?, ?, ?, ? )''', \n",
        "        ( name, album_id, length, rating, count ) )\n",
        "\n",
        "    conn.commit()"
      ],
      "metadata": {
        "id": "5KT_Nh6GRo1i"
      },
      "execution_count": null,
      "outputs": []
    }
  ]
}